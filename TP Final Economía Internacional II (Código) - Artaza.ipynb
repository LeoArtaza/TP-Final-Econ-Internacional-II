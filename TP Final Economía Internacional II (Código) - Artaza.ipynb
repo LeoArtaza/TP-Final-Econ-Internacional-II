{
 "cells": [
  {
   "cell_type": "markdown",
   "id": "05ad2a6a",
   "metadata": {
    "toc": true
   },
   "source": [
    "<h1>Table of Contents<span class=\"tocSkip\"></span></h1>\n",
    "<div class=\"toc\"><ul class=\"toc-item\"><li><span><a href=\"#Preparación-de-Data\" data-toc-modified-id=\"Preparación-de-Data-1\"><span class=\"toc-item-num\">1&nbsp;&nbsp;</span>Preparación de Data</a></span></li><li><span><a href=\"#Modelos\" data-toc-modified-id=\"Modelos-2\"><span class=\"toc-item-num\">2&nbsp;&nbsp;</span>Modelos</a></span></li><li><span><a href=\"#Testeo\" data-toc-modified-id=\"Testeo-3\"><span class=\"toc-item-num\">3&nbsp;&nbsp;</span>Testeo</a></span></li></ul></div>"
   ]
  },
  {
   "cell_type": "code",
   "execution_count": 1,
   "id": "4878489e-29dc-437d-b451-8cf494ee598b",
   "metadata": {
    "execution": {
     "iopub.execute_input": "2022-07-19T01:48:52.081532Z",
     "iopub.status.busy": "2022-07-19T01:48:52.080539Z",
     "iopub.status.idle": "2022-07-19T01:48:53.605166Z",
     "shell.execute_reply": "2022-07-19T01:48:53.604717Z",
     "shell.execute_reply.started": "2022-07-19T01:48:52.081038Z"
    },
    "tags": []
   },
   "outputs": [],
   "source": [
    "import pandas as pd\n",
    "import numpy as np\n",
    "import matplotlib.pyplot as plt\n",
    "from statsmodels.tsa.seasonal import seasonal_decompose\n",
    "\n",
    "# Estilo de plot\n",
    "# from jupyterthemes import jtplot\n",
    "# jtplot.style(gridlines='--', figsize=(20, 8), ticks=True, spines=False, fscale=1.35)\n",
    "plt.rcParams['figure.figsize'] = (20, 8)\n",
    "plt.rcParams['lines.linewidth'] = 2\n",
    "from cycler import cycler\n",
    "current_cycle_list = plt.rcParams['axes.prop_cycle'].by_key()['color']\n",
    "current_cycle_list[1] = 'mediumseagreen'\n",
    "# current_cycle_list[0], current_cycle_list[1] = current_cycle_list[1], current_cycle_list[0]\n",
    "plt.rcParams['axes.prop_cycle'] = cycler('color', current_cycle_list)"
   ]
  },
  {
   "cell_type": "markdown",
   "id": "c44b5a2c-691b-4515-b2ba-598a68cf7ba1",
   "metadata": {},
   "source": [
    "# Preparación de Data"
   ]
  },
  {
   "cell_type": "code",
   "execution_count": 2,
   "id": "f603ae27-874b-477b-83b6-dc6bf0c17e52",
   "metadata": {
    "execution": {
     "iopub.execute_input": "2022-07-19T01:48:53.606157Z",
     "iopub.status.busy": "2022-07-19T01:48:53.606157Z",
     "iopub.status.idle": "2022-07-19T01:48:56.303899Z",
     "shell.execute_reply": "2022-07-19T01:48:56.302908Z",
     "shell.execute_reply.started": "2022-07-19T01:48:53.606157Z"
    },
    "tags": []
   },
   "outputs": [
    {
     "data": {
      "text/html": [
       "<div>\n",
       "<style scoped>\n",
       "    .dataframe tbody tr th:only-of-type {\n",
       "        vertical-align: middle;\n",
       "    }\n",
       "\n",
       "    .dataframe tbody tr th {\n",
       "        vertical-align: top;\n",
       "    }\n",
       "\n",
       "    .dataframe thead th {\n",
       "        text-align: right;\n",
       "    }\n",
       "</style>\n",
       "<table border=\"1\" class=\"dataframe\">\n",
       "  <thead>\n",
       "    <tr style=\"text-align: right;\">\n",
       "      <th></th>\n",
       "      <th>maiz</th>\n",
       "      <th>soja</th>\n",
       "      <th>trigo</th>\n",
       "    </tr>\n",
       "    <tr>\n",
       "      <th>fecha</th>\n",
       "      <th></th>\n",
       "      <th></th>\n",
       "      <th></th>\n",
       "    </tr>\n",
       "  </thead>\n",
       "  <tbody>\n",
       "    <tr>\n",
       "      <th>2022-06-28</th>\n",
       "      <td>7.2360</td>\n",
       "      <td>16.2085</td>\n",
       "      <td>9.2715</td>\n",
       "    </tr>\n",
       "    <tr>\n",
       "      <th>2022-06-29</th>\n",
       "      <td>7.0650</td>\n",
       "      <td>16.1260</td>\n",
       "      <td>9.2420</td>\n",
       "    </tr>\n",
       "    <tr>\n",
       "      <th>2022-06-30</th>\n",
       "      <td>6.8525</td>\n",
       "      <td>15.9205</td>\n",
       "      <td>9.2710</td>\n",
       "    </tr>\n",
       "  </tbody>\n",
       "</table>\n",
       "</div>"
      ],
      "text/plain": [
       "              maiz     soja   trigo\n",
       "fecha                              \n",
       "2022-06-28  7.2360  16.2085  9.2715\n",
       "2022-06-29  7.0650  16.1260  9.2420\n",
       "2022-06-30  6.8525  15.9205  9.2710"
      ]
     },
     "execution_count": 2,
     "metadata": {},
     "output_type": "execute_result"
    }
   ],
   "source": [
    "# Leer csvs\n",
    "maiz  = pd.read_csv('corn-prices-historical-chart-data.csv'   , index_col=0,  parse_dates=True, names=['fecha', 'maiz'],  header=0)\n",
    "soja  = pd.read_csv('soybean-prices-historical-chart-data.csv', index_col=0,  parse_dates=True, names=['fecha', 'soja'],  header=0)\n",
    "trigo = pd.read_csv('wheat-prices-historical-chart-data.csv  ', index_col=0,  parse_dates=True, names=['fecha', 'trigo'], header=0)\n",
    "\n",
    "# Juntarlos\n",
    "df = pd.concat([maiz, soja, trigo], axis=1).dropna()\n",
    "\n",
    "cols = df.columns\n",
    "\n",
    "df.tail(3)"
   ]
  },
  {
   "cell_type": "code",
   "execution_count": 3,
   "id": "ee17be3a-7a94-4dcc-8011-6947162b902d",
   "metadata": {
    "execution": {
     "iopub.execute_input": "2022-07-19T01:48:56.307372Z",
     "iopub.status.busy": "2022-07-19T01:48:56.306876Z",
     "iopub.status.idle": "2022-07-19T01:48:56.339113Z",
     "shell.execute_reply": "2022-07-19T01:48:56.338121Z",
     "shell.execute_reply.started": "2022-07-19T01:48:56.307372Z"
    },
    "tags": []
   },
   "outputs": [
    {
     "data": {
      "text/html": [
       "<div>\n",
       "<style scoped>\n",
       "    .dataframe tbody tr th:only-of-type {\n",
       "        vertical-align: middle;\n",
       "    }\n",
       "\n",
       "    .dataframe tbody tr th {\n",
       "        vertical-align: top;\n",
       "    }\n",
       "\n",
       "    .dataframe thead th {\n",
       "        text-align: right;\n",
       "    }\n",
       "</style>\n",
       "<table border=\"1\" class=\"dataframe\">\n",
       "  <thead>\n",
       "    <tr style=\"text-align: right;\">\n",
       "      <th></th>\n",
       "      <th>maiz</th>\n",
       "      <th>soja</th>\n",
       "      <th>trigo</th>\n",
       "      <th>maizlog</th>\n",
       "      <th>sojalog</th>\n",
       "      <th>trigolog</th>\n",
       "    </tr>\n",
       "    <tr>\n",
       "      <th>fecha</th>\n",
       "      <th></th>\n",
       "      <th></th>\n",
       "      <th></th>\n",
       "      <th></th>\n",
       "      <th></th>\n",
       "      <th></th>\n",
       "    </tr>\n",
       "  </thead>\n",
       "  <tbody>\n",
       "    <tr>\n",
       "      <th>2022-06-24</th>\n",
       "      <td>7.5025</td>\n",
       "      <td>16.1075</td>\n",
       "      <td>9.2375</td>\n",
       "      <td>2.015236</td>\n",
       "      <td>2.779285</td>\n",
       "      <td>2.223271</td>\n",
       "    </tr>\n",
       "    <tr>\n",
       "      <th>2022-06-27</th>\n",
       "      <td>7.2765</td>\n",
       "      <td>16.1030</td>\n",
       "      <td>9.0670</td>\n",
       "      <td>1.984650</td>\n",
       "      <td>2.779006</td>\n",
       "      <td>2.204641</td>\n",
       "    </tr>\n",
       "    <tr>\n",
       "      <th>2022-06-28</th>\n",
       "      <td>7.2360</td>\n",
       "      <td>16.2085</td>\n",
       "      <td>9.2715</td>\n",
       "      <td>1.979069</td>\n",
       "      <td>2.785536</td>\n",
       "      <td>2.226945</td>\n",
       "    </tr>\n",
       "    <tr>\n",
       "      <th>2022-06-29</th>\n",
       "      <td>7.0650</td>\n",
       "      <td>16.1260</td>\n",
       "      <td>9.2420</td>\n",
       "      <td>1.955153</td>\n",
       "      <td>2.780433</td>\n",
       "      <td>2.223758</td>\n",
       "    </tr>\n",
       "    <tr>\n",
       "      <th>2022-06-30</th>\n",
       "      <td>6.8525</td>\n",
       "      <td>15.9205</td>\n",
       "      <td>9.2710</td>\n",
       "      <td>1.924614</td>\n",
       "      <td>2.767608</td>\n",
       "      <td>2.226891</td>\n",
       "    </tr>\n",
       "  </tbody>\n",
       "</table>\n",
       "</div>"
      ],
      "text/plain": [
       "              maiz     soja   trigo   maizlog   sojalog  trigolog\n",
       "fecha                                                            \n",
       "2022-06-24  7.5025  16.1075  9.2375  2.015236  2.779285  2.223271\n",
       "2022-06-27  7.2765  16.1030  9.0670  1.984650  2.779006  2.204641\n",
       "2022-06-28  7.2360  16.2085  9.2715  1.979069  2.785536  2.226945\n",
       "2022-06-29  7.0650  16.1260  9.2420  1.955153  2.780433  2.223758\n",
       "2022-06-30  6.8525  15.9205  9.2710  1.924614  2.767608  2.226891"
      ]
     },
     "execution_count": 3,
     "metadata": {},
     "output_type": "execute_result"
    }
   ],
   "source": [
    "# Agregar logs de las variables\n",
    "for c in cols:\n",
    "    df[c + 'log'] = df[c].apply(np.log)\n",
    "df.tail()"
   ]
  },
  {
   "cell_type": "code",
   "execution_count": 4,
   "id": "57197252-4654-4404-8e74-007fa69043ae",
   "metadata": {
    "execution": {
     "iopub.execute_input": "2022-07-19T01:48:56.340601Z",
     "iopub.status.busy": "2022-07-19T01:48:56.340105Z",
     "iopub.status.idle": "2022-07-19T01:48:56.423931Z",
     "shell.execute_reply": "2022-07-19T01:48:56.423462Z",
     "shell.execute_reply.started": "2022-07-19T01:48:56.340601Z"
    },
    "tags": []
   },
   "outputs": [
    {
     "name": "stdout",
     "output_type": "stream",
     "text": [
      "(1175, 6)\n"
     ]
    },
    {
     "data": {
      "text/html": [
       "<div>\n",
       "<style scoped>\n",
       "    .dataframe tbody tr th:only-of-type {\n",
       "        vertical-align: middle;\n",
       "    }\n",
       "\n",
       "    .dataframe tbody tr th {\n",
       "        vertical-align: top;\n",
       "    }\n",
       "\n",
       "    .dataframe thead th {\n",
       "        text-align: right;\n",
       "    }\n",
       "</style>\n",
       "<table border=\"1\" class=\"dataframe\">\n",
       "  <thead>\n",
       "    <tr style=\"text-align: right;\">\n",
       "      <th></th>\n",
       "      <th>maiz</th>\n",
       "      <th>soja</th>\n",
       "      <th>trigo</th>\n",
       "      <th>maizlog</th>\n",
       "      <th>sojalog</th>\n",
       "      <th>trigolog</th>\n",
       "    </tr>\n",
       "    <tr>\n",
       "      <th>fecha</th>\n",
       "      <th></th>\n",
       "      <th></th>\n",
       "      <th></th>\n",
       "      <th></th>\n",
       "      <th></th>\n",
       "      <th></th>\n",
       "    </tr>\n",
       "  </thead>\n",
       "  <tbody>\n",
       "    <tr>\n",
       "      <th>2000-01-02</th>\n",
       "      <td>2.0400</td>\n",
       "      <td>4.6020</td>\n",
       "      <td>2.4700</td>\n",
       "      <td>0.712950</td>\n",
       "      <td>1.526491</td>\n",
       "      <td>0.904218</td>\n",
       "    </tr>\n",
       "    <tr>\n",
       "      <th>2000-01-09</th>\n",
       "      <td>2.0075</td>\n",
       "      <td>4.6450</td>\n",
       "      <td>2.4750</td>\n",
       "      <td>0.696890</td>\n",
       "      <td>1.535791</td>\n",
       "      <td>0.906240</td>\n",
       "    </tr>\n",
       "    <tr>\n",
       "      <th>2000-01-16</th>\n",
       "      <td>2.0850</td>\n",
       "      <td>4.7350</td>\n",
       "      <td>2.5350</td>\n",
       "      <td>0.734769</td>\n",
       "      <td>1.554982</td>\n",
       "      <td>0.930194</td>\n",
       "    </tr>\n",
       "    <tr>\n",
       "      <th>2000-01-23</th>\n",
       "      <td>2.2000</td>\n",
       "      <td>5.0225</td>\n",
       "      <td>2.6450</td>\n",
       "      <td>0.788457</td>\n",
       "      <td>1.613928</td>\n",
       "      <td>0.972671</td>\n",
       "    </tr>\n",
       "    <tr>\n",
       "      <th>2000-01-30</th>\n",
       "      <td>2.2725</td>\n",
       "      <td>5.1200</td>\n",
       "      <td>2.6600</td>\n",
       "      <td>0.820881</td>\n",
       "      <td>1.633154</td>\n",
       "      <td>0.978326</td>\n",
       "    </tr>\n",
       "    <tr>\n",
       "      <th>...</th>\n",
       "      <td>...</td>\n",
       "      <td>...</td>\n",
       "      <td>...</td>\n",
       "      <td>...</td>\n",
       "      <td>...</td>\n",
       "      <td>...</td>\n",
       "    </tr>\n",
       "    <tr>\n",
       "      <th>2022-06-05</th>\n",
       "      <td>7.5350</td>\n",
       "      <td>16.8325</td>\n",
       "      <td>10.8750</td>\n",
       "      <td>2.019559</td>\n",
       "      <td>2.823312</td>\n",
       "      <td>2.386467</td>\n",
       "    </tr>\n",
       "    <tr>\n",
       "      <th>2022-06-12</th>\n",
       "      <td>7.4250</td>\n",
       "      <td>16.9925</td>\n",
       "      <td>10.9300</td>\n",
       "      <td>2.004853</td>\n",
       "      <td>2.832772</td>\n",
       "      <td>2.391511</td>\n",
       "    </tr>\n",
       "    <tr>\n",
       "      <th>2022-06-19</th>\n",
       "      <td>7.6925</td>\n",
       "      <td>17.0750</td>\n",
       "      <td>10.7100</td>\n",
       "      <td>2.040246</td>\n",
       "      <td>2.837615</td>\n",
       "      <td>2.371178</td>\n",
       "    </tr>\n",
       "    <tr>\n",
       "      <th>2022-06-26</th>\n",
       "      <td>7.8450</td>\n",
       "      <td>17.0200</td>\n",
       "      <td>10.3425</td>\n",
       "      <td>2.059876</td>\n",
       "      <td>2.834389</td>\n",
       "      <td>2.336262</td>\n",
       "    </tr>\n",
       "    <tr>\n",
       "      <th>2022-07-03</th>\n",
       "      <td>7.2765</td>\n",
       "      <td>16.1030</td>\n",
       "      <td>9.0670</td>\n",
       "      <td>1.984650</td>\n",
       "      <td>2.779006</td>\n",
       "      <td>2.204641</td>\n",
       "    </tr>\n",
       "  </tbody>\n",
       "</table>\n",
       "<p>1175 rows × 6 columns</p>\n",
       "</div>"
      ],
      "text/plain": [
       "              maiz     soja    trigo   maizlog   sojalog  trigolog\n",
       "fecha                                                             \n",
       "2000-01-02  2.0400   4.6020   2.4700  0.712950  1.526491  0.904218\n",
       "2000-01-09  2.0075   4.6450   2.4750  0.696890  1.535791  0.906240\n",
       "2000-01-16  2.0850   4.7350   2.5350  0.734769  1.554982  0.930194\n",
       "2000-01-23  2.2000   5.0225   2.6450  0.788457  1.613928  0.972671\n",
       "2000-01-30  2.2725   5.1200   2.6600  0.820881  1.633154  0.978326\n",
       "...            ...      ...      ...       ...       ...       ...\n",
       "2022-06-05  7.5350  16.8325  10.8750  2.019559  2.823312  2.386467\n",
       "2022-06-12  7.4250  16.9925  10.9300  2.004853  2.832772  2.391511\n",
       "2022-06-19  7.6925  17.0750  10.7100  2.040246  2.837615  2.371178\n",
       "2022-06-26  7.8450  17.0200  10.3425  2.059876  2.834389  2.336262\n",
       "2022-07-03  7.2765  16.1030   9.0670  1.984650  2.779006  2.204641\n",
       "\n",
       "[1175 rows x 6 columns]"
      ]
     },
     "execution_count": 4,
     "metadata": {},
     "output_type": "execute_result"
    }
   ],
   "source": [
    "# Pasar de data diaria a semanal, y filtar del 2000 para adelante\n",
    "df = df.resample('w').first()\n",
    "df = df[df.index >= '2000']\n",
    "print(df.shape)\n",
    "df"
   ]
  },
  {
   "cell_type": "markdown",
   "id": "4784cc17-8b7f-439f-9e55-1a0d81722aca",
   "metadata": {},
   "source": [
    "# Modelos"
   ]
  },
  {
   "cell_type": "code",
   "execution_count": 5,
   "id": "ded0c692-a6f1-4a99-a4eb-56f8f25c71b4",
   "metadata": {
    "execution": {
     "iopub.execute_input": "2022-07-19T01:48:56.425914Z",
     "iopub.status.busy": "2022-07-19T01:48:56.425420Z",
     "iopub.status.idle": "2022-07-19T01:48:56.438809Z",
     "shell.execute_reply": "2022-07-19T01:48:56.437321Z",
     "shell.execute_reply.started": "2022-07-19T01:48:56.425914Z"
    },
    "tags": []
   },
   "outputs": [],
   "source": [
    "def predictRandomWalk(train_data, n_steps, index=None):\n",
    "    a = [train_data[-1]]\n",
    "    for i in range(n_steps-1):\n",
    "        a.append(a[-1] + train_data[-8:].diff().mean() * np.sign((np.random.random() - 0.5)) * 1)\n",
    "    return pd.Series(a, index=index)\n",
    "\n",
    "# a = []\n",
    "# for i in range(500):\n",
    "#     a.append(predictRandomWalk(train, steps, test.index))\n",
    "# mydf = pd.concat(a, axis=1)\n",
    "# preds = mydf.quantile([0.5, 0.1, 0.9], axis=1).T\n",
    "\n",
    "# from statsmodels.tsa.arima.model import ARIMA, ARIMAResults\n",
    "# arima = ARIMA(train, order=(10, 2, 1)).fit()\n",
    "# preds = arima.get_forecast(steps).summary_frame().drop('mean_se', axis=1)\n",
    "# arima.summary()"
   ]
  },
  {
   "cell_type": "code",
   "execution_count": 6,
   "id": "bac60a78-f7b0-4715-9ee9-131bb955900e",
   "metadata": {
    "execution": {
     "iopub.execute_input": "2022-07-19T01:48:56.441785Z",
     "iopub.status.busy": "2022-07-19T01:48:56.440794Z",
     "iopub.status.idle": "2022-07-19T01:48:56.456665Z",
     "shell.execute_reply": "2022-07-19T01:48:56.454185Z",
     "shell.execute_reply.started": "2022-07-19T01:48:56.441785Z"
    },
    "tags": []
   },
   "outputs": [],
   "source": [
    "# Preparación de train data y test data\n",
    "grano = 'maiz'\n",
    "y = df[grano+'log']\n",
    "train = y[y.index < '2022-02-15']\n",
    "test  = y[y.index >= '2022-02-15']"
   ]
  },
  {
   "cell_type": "code",
   "execution_count": 7,
   "id": "e12f8541-82c2-4b50-8500-bea568600044",
   "metadata": {
    "execution": {
     "iopub.execute_input": "2022-07-19T01:48:56.462618Z",
     "iopub.status.busy": "2022-07-19T01:48:56.460137Z",
     "iopub.status.idle": "2022-07-19T01:48:56.776090Z",
     "shell.execute_reply": "2022-07-19T01:48:56.775622Z",
     "shell.execute_reply.started": "2022-07-19T01:48:56.462618Z"
    },
    "tags": []
   },
   "outputs": [],
   "source": [
    "# Importar modelos\n",
    "from sklearn.linear_model import LinearRegression\n",
    "from sklearn.ensemble import RandomForestRegressor\n",
    "from sklearn.neural_network import MLPRegressor\n",
    "from sklearn.svm import SVR\n",
    "from skforecast.ForecasterAutoreg import ForecasterAutoreg # Modelo que hace la iteración\n",
    "\n",
    "# Para escalar variables de 0 a 1 (la red neuronal lo necesita)\n",
    "from sklearn.preprocessing import MinMaxScaler\n",
    "scaler = MinMaxScaler()\n",
    "\n",
    "\n",
    "lags = 8 # lags a usar\n",
    "steps = len(test) # ctdad de períodos a forecastear\n",
    "rs = 5 # random state fijo para testear los modelos más fácilmente\n",
    "\n",
    "forecaster =  ForecasterAutoreg(regressor = MLPRegressor(solver='lbfgs', random_state=rs),\n",
    "                               lags = lags)"
   ]
  },
  {
   "cell_type": "code",
   "execution_count": 8,
   "id": "1cd5fc59-a44e-442d-9261-a61d103ad928",
   "metadata": {
    "execution": {
     "iopub.execute_input": "2022-07-19T01:48:56.777606Z",
     "iopub.status.busy": "2022-07-19T01:48:56.777081Z",
     "iopub.status.idle": "2022-07-19T01:48:58.730822Z",
     "shell.execute_reply": "2022-07-19T01:48:58.729881Z",
     "shell.execute_reply.started": "2022-07-19T01:48:56.777606Z"
    },
    "tags": []
   },
   "outputs": [
    {
     "data": {
      "text/html": [
       "<div>\n",
       "<style scoped>\n",
       "    .dataframe tbody tr th:only-of-type {\n",
       "        vertical-align: middle;\n",
       "    }\n",
       "\n",
       "    .dataframe tbody tr th {\n",
       "        vertical-align: top;\n",
       "    }\n",
       "\n",
       "    .dataframe thead th {\n",
       "        text-align: right;\n",
       "    }\n",
       "</style>\n",
       "<table border=\"1\" class=\"dataframe\">\n",
       "  <thead>\n",
       "    <tr style=\"text-align: right;\">\n",
       "      <th></th>\n",
       "      <th>pred</th>\n",
       "      <th>0.05</th>\n",
       "      <th>0.95</th>\n",
       "    </tr>\n",
       "    <tr>\n",
       "      <th>fecha</th>\n",
       "      <th></th>\n",
       "      <th></th>\n",
       "      <th></th>\n",
       "    </tr>\n",
       "  </thead>\n",
       "  <tbody>\n",
       "    <tr>\n",
       "      <th>2022-06-05</th>\n",
       "      <td>1.850300</td>\n",
       "      <td>1.679796</td>\n",
       "      <td>2.005033</td>\n",
       "    </tr>\n",
       "    <tr>\n",
       "      <th>2022-06-12</th>\n",
       "      <td>1.850475</td>\n",
       "      <td>1.688294</td>\n",
       "      <td>1.997175</td>\n",
       "    </tr>\n",
       "    <tr>\n",
       "      <th>2022-06-19</th>\n",
       "      <td>1.850655</td>\n",
       "      <td>1.691443</td>\n",
       "      <td>2.005678</td>\n",
       "    </tr>\n",
       "    <tr>\n",
       "      <th>2022-06-26</th>\n",
       "      <td>1.850807</td>\n",
       "      <td>1.684958</td>\n",
       "      <td>2.014485</td>\n",
       "    </tr>\n",
       "    <tr>\n",
       "      <th>2022-07-03</th>\n",
       "      <td>1.850957</td>\n",
       "      <td>1.663367</td>\n",
       "      <td>2.013806</td>\n",
       "    </tr>\n",
       "  </tbody>\n",
       "</table>\n",
       "</div>"
      ],
      "text/plain": [
       "                pred      0.05      0.95\n",
       "fecha                                   \n",
       "2022-06-05  1.850300  1.679796  2.005033\n",
       "2022-06-12  1.850475  1.688294  1.997175\n",
       "2022-06-19  1.850655  1.691443  2.005678\n",
       "2022-06-26  1.850807  1.684958  2.014485\n",
       "2022-07-03  1.850957  1.663367  2.013806"
      ]
     },
     "execution_count": 8,
     "metadata": {},
     "output_type": "execute_result"
    }
   ],
   "source": [
    "# Escalar variables y entrenar modelo\n",
    "forecaster.fit(pd.Series(scaler.fit_transform(train.to_frame())[:, 0]))\n",
    "# Predecir y reescalar variables\n",
    "preds = forecaster.predict_interval(steps, n_boot=500, random_state=rs)\n",
    "preds = pd.DataFrame(scaler.inverse_transform(preds), columns=['pred', '0.05', '0.95'])\n",
    "preds.index = test.index\n",
    "preds.tail()"
   ]
  },
  {
   "cell_type": "code",
   "execution_count": 9,
   "id": "e8cc0e11-6013-4ec3-b299-f2891dbe7826",
   "metadata": {
    "execution": {
     "iopub.execute_input": "2022-07-19T01:48:58.733302Z",
     "iopub.status.busy": "2022-07-19T01:48:58.732806Z",
     "iopub.status.idle": "2022-07-19T01:48:58.738759Z",
     "shell.execute_reply": "2022-07-19T01:48:58.737765Z",
     "shell.execute_reply.started": "2022-07-19T01:48:58.733302Z"
    },
    "tags": []
   },
   "outputs": [],
   "source": [
    "# Si es diff, integrar y sumar constante\n",
    "# preds[0] = preds[0].cumsum() + train.cumsum()[-1]\n",
    "# preds[1] = preds[1] + preds[0]\n",
    "# preds[2] = preds[2] + preds[0]\n",
    "# test = test.cumsum() + train.cumsum()[-1]"
   ]
  },
  {
   "cell_type": "code",
   "execution_count": 10,
   "id": "20fd9437-c2cb-47a0-b1f3-6ba7e6135ce1",
   "metadata": {
    "execution": {
     "iopub.execute_input": "2022-07-19T01:48:58.741239Z",
     "iopub.status.busy": "2022-07-19T01:48:58.740248Z",
     "iopub.status.idle": "2022-07-19T01:48:59.258071Z",
     "shell.execute_reply": "2022-07-19T01:48:59.257620Z",
     "shell.execute_reply.started": "2022-07-19T01:48:58.740772Z"
    },
    "tags": []
   },
   "outputs": [
    {
     "data": {
      "text/plain": [
       "(2610.0, 2766.0)"
      ]
     },
     "execution_count": 10,
     "metadata": {},
     "output_type": "execute_result"
    },
    {
     "data": {
      "image/png": "[encoded data removed]",
      "text/plain": [
       "<Figure size 1080x576 with 1 Axes>"
      ]
     },
     "metadata": {
      "needs_background": "light"
     },
     "output_type": "display_data"
    }
   ],
   "source": [
    "# Gráfico de predicciones\n",
    "fig, ax = plt.subplots(figsize=(15, 8))\n",
    "y.apply(np.exp).plot(ax=ax)\n",
    "preds.apply(np.exp).plot(c='C2', ls='--', ax=ax)\n",
    "plt.axvline('2022-02-20', c='k', ls='-')\n",
    "# plt.gca().vlines('2022-01-01', ymin=1000, ymax=2000, color='k')\n",
    "plt.legend(['Precio real', 'Predicción (IC 95%)'])\n",
    "plt.title(f'Precio {grano}'.capitalize())\n",
    "plt.xlim('2020', '2023')"
   ]
  },
  {
   "cell_type": "markdown",
   "id": "a5bbc518-57eb-4d0f-afe5-39c9e2b4b2cf",
   "metadata": {},
   "source": [
    "# Testeo"
   ]
  },
  {
   "cell_type": "code",
   "execution_count": 11,
   "id": "c43baf43-f292-4052-97fd-81066cefcb7d",
   "metadata": {
    "execution": {
     "iopub.execute_input": "2022-07-19T01:48:59.259557Z",
     "iopub.status.busy": "2022-07-19T01:48:59.259557Z",
     "iopub.status.idle": "2022-07-19T01:49:00.898339Z",
     "shell.execute_reply": "2022-07-19T01:49:00.897351Z",
     "shell.execute_reply.started": "2022-07-19T01:48:59.259557Z"
    },
    "tags": []
   },
   "outputs": [
    {
     "data": {
      "application/vnd.jupyter.widget-view+json": {
       "model_id": "48276bd415fc4c23a37f5530d9d3be1a",
       "version_major": 2,
       "version_minor": 0
      },
      "text/plain": [
       "  0%|          | 0/9 [00:00<?, ?it/s]"
      ]
     },
     "metadata": {},
     "output_type": "display_data"
    }
   ],
   "source": [
    "# Backtesting\n",
    "\n",
    "from tqdm.notebook import tqdm # barra de progreso\n",
    "from statsmodels.tsa.arima.model import ARIMA\n",
    "\n",
    "# Uso una porción de training data que sea más estacionaria\n",
    "train_back = train[train.index < '2019-11-01']\n",
    "\n",
    "init_train_size = int(len(train_back)*0.8) \n",
    "\n",
    "# Entrenamiento inicial con 80% de la training data\n",
    "# Predecir siguientes n períodos/steps, almacenar predicciones, agrandar training data en n (steps) y repetir proceso\n",
    "a = []\n",
    "for i in tqdm(range((len(train_back) - init_train_size)//steps-1)):\n",
    "    \n",
    "    # Habría que hacerlo función para poder elegir el modelo desde el argumento\n",
    "    \n",
    "    # Modelo sklearn\n",
    "    forecaster.fit(train_back.iloc[:init_train_size+i*steps])\n",
    "    back_preds = forecaster.predict(steps)\n",
    "    \n",
    "    ## ARIMA\n",
    "    # arima = ARIMA(train_back.iloc[:init_train_size+i*steps], order=(6, 1, 1)).fit()\n",
    "    # back_preds = arima.forecast(steps)\n",
    "    \n",
    "    ## RW\n",
    "    # back_preds = predictRandomWalk(train_back.iloc[:train_back+i*steps],\n",
    "    #                           steps,\n",
    "    #                           train_back.iloc[init_train_size+i*steps:init_train_size+i*steps+steps].index)\n",
    "    \n",
    "    # a.append(train_back.iloc[:init_train_size+i*steps].cumsum()[-1] + back_preds.cumsum()) # Si es diff, integrar y sumar constante\n",
    "    a.append(back_preds)\n",
    "backtesting_series = pd.concat(a, axis=1)"
   ]
  },
  {
   "cell_type": "code",
   "execution_count": 12,
   "id": "8f34d9eb-98a3-4b3d-b973-951be34bf9fa",
   "metadata": {
    "execution": {
     "iopub.execute_input": "2022-07-19T01:49:00.902306Z",
     "iopub.status.busy": "2022-07-19T01:49:00.902306Z",
     "iopub.status.idle": "2022-07-19T01:49:01.364578Z",
     "shell.execute_reply": "2022-07-19T01:49:01.364082Z",
     "shell.execute_reply.started": "2022-07-19T01:49:00.902306Z"
    },
    "tags": []
   },
   "outputs": [
    {
     "data": {
      "text/plain": [
       "<matplotlib.legend.Legend at 0x1e009bacf08>"
      ]
     },
     "execution_count": 12,
     "metadata": {},
     "output_type": "execute_result"
    },
    {
     "data": {
      "image/png": "[encoded data removed]",
      "text/plain": [
       "<Figure size 1440x576 with 1 Axes>"
      ]
     },
     "metadata": {
      "needs_background": "light"
     },
     "output_type": "display_data"
    }
   ],
   "source": [
    "from sklearn.metrics import mean_squared_error, mean_absolute_error, mean_absolute_percentage_error\n",
    "\n",
    "# Graficar backtesting y calcular métrica\n",
    "\n",
    "fig, ax = plt.subplots()\n",
    "y[backtesting_series.index].plot(ax=ax)\n",
    "(backtesting_series).plot(ax=ax, c='C1')\n",
    "mse = mean_squared_error(y[backtesting_series.index], backtesting_series.mean(1))\n",
    "plt.title(f'Backtesting {grano.capitalize()}\\nlags: {lags}\\nmse: {round(mse, 5)}')\n",
    "plt.legend([])"
   ]
  },
  {
   "cell_type": "code",
   "execution_count": 13,
   "id": "3b06e616-2ea8-4cc9-b439-b3a05983b693",
   "metadata": {
    "execution": {
     "iopub.execute_input": "2022-07-19T01:49:01.366561Z",
     "iopub.status.busy": "2022-07-19T01:49:01.366066Z",
     "iopub.status.idle": "2022-07-19T01:49:01.371026Z",
     "shell.execute_reply": "2022-07-19T01:49:01.370064Z",
     "shell.execute_reply.started": "2022-07-19T01:49:01.366561Z"
    },
    "tags": []
   },
   "outputs": [],
   "source": [
    "# Histogramas de tasas de crecimiento predecidas por ambos modelos\n",
    "# pd.concat([backtesting_series1.mean(1),\n",
    "#            backtesting_series2.mean(1)], axis=1).plot.kde()"
   ]
  },
  {
   "cell_type": "code",
   "execution_count": 14,
   "id": "5b752ca1-87cc-4f77-8065-efad95ebea67",
   "metadata": {
    "execution": {
     "iopub.execute_input": "2022-07-19T01:49:01.372514Z",
     "iopub.status.busy": "2022-07-19T01:49:01.372514Z",
     "iopub.status.idle": "2022-07-19T01:49:13.014570Z",
     "shell.execute_reply": "2022-07-19T01:49:13.014074Z",
     "shell.execute_reply.started": "2022-07-19T01:49:01.372514Z"
    },
    "tags": []
   },
   "outputs": [
    {
     "name": "stdout",
     "output_type": "stream",
     "text": [
      "Number of models compared: 4\n"
     ]
    },
    {
     "name": "stderr",
     "output_type": "stream",
     "text": [
      "loop lags_grid:   0%|                                               | 0/4 [00:00<?, ?it/s]\n",
      "loop param_grid:   0%|                                              | 0/1 [00:00<?, ?it/s]\u001b[A\n",
      "loop param_grid: 100%|██████████████████████████████████████| 1/1 [00:01<00:00,  1.80s/it]\u001b[A\n",
      "loop lags_grid:  25%|█████████▊                             | 1/4 [00:01<00:05,  1.81s/it]\u001b[A\n",
      "loop param_grid:   0%|                                              | 0/1 [00:00<?, ?it/s]\u001b[A\n",
      "loop param_grid: 100%|██████████████████████████████████████| 1/1 [00:02<00:00,  2.84s/it]\u001b[A\n",
      "loop lags_grid:  50%|███████████████████▌                   | 2/4 [00:04<00:04,  2.42s/it]\u001b[A\n",
      "loop param_grid:   0%|                                              | 0/1 [00:00<?, ?it/s]\u001b[A\n",
      "loop param_grid: 100%|██████████████████████████████████████| 1/1 [00:02<00:00,  2.88s/it]\u001b[A\n",
      "loop lags_grid:  75%|█████████████████████████████▎         | 3/4 [00:07<00:02,  2.64s/it]\u001b[A\n",
      "loop param_grid:   0%|                                              | 0/1 [00:00<?, ?it/s]\u001b[A\n",
      "loop param_grid: 100%|██████████████████████████████████████| 1/1 [00:03<00:00,  3.85s/it]\u001b[A\n",
      "loop lags_grid: 100%|███████████████████████████████████████| 4/4 [00:11<00:00,  2.85s/it]\u001b[A"
     ]
    },
    {
     "name": "stdout",
     "output_type": "stream",
     "text": [
      "`Forecaster` refitted using the best-found lags and parameters, and the whole data set: \n",
      "  Lags: [1 2 3 4 5 6 7 8] \n",
      "  Parameters: {}\n",
      "  Backtesting metric: 0.003442977045466289\n",
      "\n"
     ]
    },
    {
     "name": "stderr",
     "output_type": "stream",
     "text": [
      "\n"
     ]
    },
    {
     "data": {
      "text/html": [
       "<div>\n",
       "<style scoped>\n",
       "    .dataframe tbody tr th:only-of-type {\n",
       "        vertical-align: middle;\n",
       "    }\n",
       "\n",
       "    .dataframe tbody tr th {\n",
       "        vertical-align: top;\n",
       "    }\n",
       "\n",
       "    .dataframe thead th {\n",
       "        text-align: right;\n",
       "    }\n",
       "</style>\n",
       "<table border=\"1\" class=\"dataframe\">\n",
       "  <thead>\n",
       "    <tr style=\"text-align: right;\">\n",
       "      <th></th>\n",
       "      <th>lags</th>\n",
       "      <th>params</th>\n",
       "      <th>metric</th>\n",
       "    </tr>\n",
       "  </thead>\n",
       "  <tbody>\n",
       "    <tr>\n",
       "      <th>1</th>\n",
       "      <td>[1, 2, 3, 4, 5, 6, 7, 8]</td>\n",
       "      <td>{}</td>\n",
       "      <td>0.003443</td>\n",
       "    </tr>\n",
       "    <tr>\n",
       "      <th>2</th>\n",
       "      <td>[1, 2, 3, 4, 5, 6, 7, 8, 9, 10, 11, 12, 13, 14...</td>\n",
       "      <td>{}</td>\n",
       "      <td>0.003528</td>\n",
       "    </tr>\n",
       "    <tr>\n",
       "      <th>0</th>\n",
       "      <td>[1, 2, 3, 4]</td>\n",
       "      <td>{}</td>\n",
       "      <td>0.003929</td>\n",
       "    </tr>\n",
       "    <tr>\n",
       "      <th>3</th>\n",
       "      <td>[1, 2, 3, 4, 5, 6, 7, 8, 9, 10, 11, 12, 13, 14...</td>\n",
       "      <td>{}</td>\n",
       "      <td>0.004082</td>\n",
       "    </tr>\n",
       "  </tbody>\n",
       "</table>\n",
       "</div>"
      ],
      "text/plain": [
       "                                                lags params    metric\n",
       "1                           [1, 2, 3, 4, 5, 6, 7, 8]     {}  0.003443\n",
       "2  [1, 2, 3, 4, 5, 6, 7, 8, 9, 10, 11, 12, 13, 14...     {}  0.003528\n",
       "0                                       [1, 2, 3, 4]     {}  0.003929\n",
       "3  [1, 2, 3, 4, 5, 6, 7, 8, 9, 10, 11, 12, 13, 14...     {}  0.004082"
      ]
     },
     "execution_count": 14,
     "metadata": {},
     "output_type": "execute_result"
    }
   ],
   "source": [
    "# GridSearch\n",
    "# ==============================================================================\n",
    "from skforecast.model_selection import grid_search_forecaster\n",
    "\n",
    "lags_grid = [4, 8, 16, 20]\n",
    "\n",
    "# param_grid_nn = dict(hidden_layer_sizes=[(100,), (100, 100), (200,)],\n",
    "#                      alpha=[0.001, 0.0001, 0.00001])\n",
    "\n",
    "results_grid = grid_search_forecaster(\n",
    "                                    forecaster = forecaster,\n",
    "                                    y          = pd.Series(scaler.fit_transform(train.to_frame())[:, 0]),\n",
    "                                    param_grid = {},\n",
    "                                    lags_grid  = lags_grid,\n",
    "                                    initial_train_size = int(len(train_back)*0.8),\n",
    "                                    fixed_train_size   = False,\n",
    "                                    steps      = steps,\n",
    "                                    metric     = 'mean_squared_error',\n",
    "                                    refit      = True,\n",
    "                                    verbose    = False,\n",
    "                                    )\n",
    "results_grid"
   ]
  },
  {
   "cell_type": "code",
   "execution_count": 15,
   "id": "099ae0c4-1ddf-43cf-99b7-800507bb9b69",
   "metadata": {
    "execution": {
     "iopub.execute_input": "2022-07-19T01:49:13.016058Z",
     "iopub.status.busy": "2022-07-19T01:49:13.016058Z",
     "iopub.status.idle": "2022-07-19T01:49:13.020524Z",
     "shell.execute_reply": "2022-07-19T01:49:13.020122Z",
     "shell.execute_reply.started": "2022-07-19T01:49:13.016058Z"
    },
    "tags": []
   },
   "outputs": [],
   "source": [
    "# Backtesting enlatado\n",
    "# from skforecast.model_selection import backtesting_forecaster\n",
    "\n",
    "# metric, predictions_backtest = backtesting_forecaster(\n",
    "#                                     forecaster = forecaster,\n",
    "#                                     y          = pd.Series(scaler.fit_transform(train.to_frame())[:, 0], index=train.index),\n",
    "#                                     initial_train_size = int(len(train_back)*0.7),\n",
    "#                                     fixed_train_size   = False,\n",
    "#                                     steps      = steps,\n",
    "#                                     metric     = 'mean_squared_error',\n",
    "#                                     refit      = True,\n",
    "#                                     verbose    = False\n",
    "#                                     )\n",
    "\n",
    "# print(f\"Backtest error: {metric}\")\n",
    "\n",
    "# predictions_backtest = pd.Series(scaler.inverse_transform(predictions_backtest)[:, 0], index=train[-len(predictions_backtest):].index)\n",
    "\n",
    "# fig, ax = plt.subplots()\n",
    "# train.iloc[-len(predictions_backtest):].plot(ax=ax, label='test')\n",
    "# predictions_backtest.plot(ax=ax, label='predictions')\n",
    "# ax.legend();"
   ]
  }
 ],
 "metadata": {
  "kernelspec": {
   "display_name": "Python 3 (ipykernel)",
   "language": "python",
   "name": "python3"
  },
  "language_info": {
   "codemirror_mode": {
    "name": "ipython",
    "version": 3
   },
   "file_extension": ".py",
   "mimetype": "text/x-python",
   "name": "python",
   "nbconvert_exporter": "python",
   "pygments_lexer": "ipython3",
   "version": "3.9.13"
  },
  "toc": {
   "base_numbering": 1,
   "nav_menu": {},
   "number_sections": true,
   "sideBar": true,
   "skip_h1_title": false,
   "title_cell": "Table of Contents",
   "title_sidebar": "Contents",
   "toc_cell": true,
   "toc_position": {},
   "toc_section_display": true,
   "toc_window_display": true
  },
  "vscode": {
   "interpreter": {
    "hash": "60b3d19bb697111bd626786debc020eba8a985fcf04cb7caae1336b9c1cb28c5"
   }
  }
 },
 "nbformat": 4,
 "nbformat_minor": 5
}
